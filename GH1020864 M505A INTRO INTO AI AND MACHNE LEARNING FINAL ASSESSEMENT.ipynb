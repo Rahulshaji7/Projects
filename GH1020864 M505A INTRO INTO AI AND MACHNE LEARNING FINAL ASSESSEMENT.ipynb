{
 "cells": [
  {
   "cell_type": "markdown",
   "id": "331c9a7d",
   "metadata": {},
   "source": [
    "## ASSIGNMENT MACHINE LEARNING                                 "
   ]
  },
  {
   "cell_type": "markdown",
   "id": "1d252cd4",
   "metadata": {},
   "source": [
    "### People's craze and liking towards automobiles have increased today. A wide variety of automobiles are releasing nowadays with amazing features.My client is a car production company based in India. They have approached me to build a pipeline to predict the number of people reviewing their next model, so that my client can use these prediction to either release the model or make some imporbvvements before launching it. As a data scientist I should build the model to predict the review count."
   ]
  },
  {
   "cell_type": "markdown",
   "id": "194bca73",
   "metadata": {},
   "source": [
    "### Importing Libraries"
   ]
  },
  {
   "cell_type": "code",
   "execution_count": 1,
   "id": "b34c0d8f",
   "metadata": {},
   "outputs": [],
   "source": [
    "import pandas as pd\n",
    "import numpy as np"
   ]
  },
  {
   "cell_type": "code",
   "execution_count": 2,
   "id": "9e7039a8",
   "metadata": {},
   "outputs": [],
   "source": [
    "import sklearn.preprocessing"
   ]
  },
  {
   "cell_type": "code",
   "execution_count": 3,
   "id": "12fb0bb7",
   "metadata": {},
   "outputs": [],
   "source": [
    "import sklearn.model_selection\n",
    "import sklearn.tree\n",
    "import sklearn.svm\n",
    "import sklearn.neighbors\n",
    "import sklearn.linear_model\n",
    "import sklearn.model_selection"
   ]
  },
  {
   "cell_type": "code",
   "execution_count": 4,
   "id": "7e02beb2",
   "metadata": {},
   "outputs": [],
   "source": [
    "import sklearn.metrics"
   ]
  },
  {
   "cell_type": "markdown",
   "id": "ab729a16",
   "metadata": {},
   "source": [
    "### visualization libraries"
   ]
  },
  {
   "cell_type": "code",
   "execution_count": 5,
   "id": "603457ae",
   "metadata": {},
   "outputs": [],
   "source": [
    "import seaborn as sns\n",
    "sns.set(color_codes = True)\n",
    "import plotly.graph_objs as go\n",
    "import matplotlib.pyplot as plt\n",
    " "
   ]
  },
  {
   "cell_type": "markdown",
   "id": "fb28f8b4",
   "metadata": {},
   "source": [
    "### loading datastet"
   ]
  },
  {
   "cell_type": "code",
   "execution_count": 6,
   "id": "94a153d7",
   "metadata": {},
   "outputs": [
    {
     "data": {
      "text/html": [
       "<div>\n",
       "<style scoped>\n",
       "    .dataframe tbody tr th:only-of-type {\n",
       "        vertical-align: middle;\n",
       "    }\n",
       "\n",
       "    .dataframe tbody tr th {\n",
       "        vertical-align: top;\n",
       "    }\n",
       "\n",
       "    .dataframe thead th {\n",
       "        text-align: right;\n",
       "    }\n",
       "</style>\n",
       "<table border=\"1\" class=\"dataframe\">\n",
       "  <thead>\n",
       "    <tr style=\"text-align: right;\">\n",
       "      <th></th>\n",
       "      <th>car_name</th>\n",
       "      <th>reviews_count</th>\n",
       "      <th>fuel_type</th>\n",
       "      <th>engine_displacement</th>\n",
       "      <th>no_cylinder</th>\n",
       "      <th>seating_capacity</th>\n",
       "      <th>transmission_type</th>\n",
       "      <th>fuel_tank_capacity</th>\n",
       "      <th>body_type</th>\n",
       "      <th>rating</th>\n",
       "      <th>starting_price</th>\n",
       "      <th>ending_price</th>\n",
       "      <th>max_torque_nm</th>\n",
       "      <th>max_torque_rpm</th>\n",
       "      <th>max_power_bhp</th>\n",
       "      <th>max_power_rp</th>\n",
       "    </tr>\n",
       "  </thead>\n",
       "  <tbody>\n",
       "    <tr>\n",
       "      <th>0</th>\n",
       "      <td>Maruti Alto K10</td>\n",
       "      <td>51</td>\n",
       "      <td>Petrol</td>\n",
       "      <td>998</td>\n",
       "      <td>3</td>\n",
       "      <td>5</td>\n",
       "      <td>Automatic</td>\n",
       "      <td>27.0</td>\n",
       "      <td>Hatchback</td>\n",
       "      <td>4.5</td>\n",
       "      <td>399000</td>\n",
       "      <td>583000</td>\n",
       "      <td>89.0</td>\n",
       "      <td>3500</td>\n",
       "      <td>65.71</td>\n",
       "      <td>5500</td>\n",
       "    </tr>\n",
       "    <tr>\n",
       "      <th>1</th>\n",
       "      <td>Maruti Brezza</td>\n",
       "      <td>86</td>\n",
       "      <td>Petrol</td>\n",
       "      <td>1462</td>\n",
       "      <td>4</td>\n",
       "      <td>5</td>\n",
       "      <td>Automatic</td>\n",
       "      <td>48.0</td>\n",
       "      <td>SUV</td>\n",
       "      <td>4.5</td>\n",
       "      <td>799000</td>\n",
       "      <td>1396000</td>\n",
       "      <td>136.8</td>\n",
       "      <td>4400</td>\n",
       "      <td>101.65</td>\n",
       "      <td>6000</td>\n",
       "    </tr>\n",
       "    <tr>\n",
       "      <th>2</th>\n",
       "      <td>Mahindra Thar</td>\n",
       "      <td>242</td>\n",
       "      <td>Diesel</td>\n",
       "      <td>2184</td>\n",
       "      <td>4</td>\n",
       "      <td>4</td>\n",
       "      <td>Automatic</td>\n",
       "      <td>57.0</td>\n",
       "      <td>SUV</td>\n",
       "      <td>4.5</td>\n",
       "      <td>1353000</td>\n",
       "      <td>1603000</td>\n",
       "      <td>300.0</td>\n",
       "      <td>2800</td>\n",
       "      <td>130.00</td>\n",
       "      <td>3750</td>\n",
       "    </tr>\n",
       "    <tr>\n",
       "      <th>3</th>\n",
       "      <td>Mahindra XUV700</td>\n",
       "      <td>313</td>\n",
       "      <td>Diesel</td>\n",
       "      <td>2198</td>\n",
       "      <td>4</td>\n",
       "      <td>7</td>\n",
       "      <td>Automatic</td>\n",
       "      <td>60.0</td>\n",
       "      <td>SUV</td>\n",
       "      <td>4.5</td>\n",
       "      <td>1318000</td>\n",
       "      <td>2458000</td>\n",
       "      <td>450.0</td>\n",
       "      <td>2800</td>\n",
       "      <td>182.38</td>\n",
       "      <td>3500</td>\n",
       "    </tr>\n",
       "    <tr>\n",
       "      <th>4</th>\n",
       "      <td>Mahindra Scorpio-N</td>\n",
       "      <td>107</td>\n",
       "      <td>Diesel</td>\n",
       "      <td>2198</td>\n",
       "      <td>4</td>\n",
       "      <td>7</td>\n",
       "      <td>Automatic</td>\n",
       "      <td>57.0</td>\n",
       "      <td>SUV</td>\n",
       "      <td>4.5</td>\n",
       "      <td>1199000</td>\n",
       "      <td>2390000</td>\n",
       "      <td>400.0</td>\n",
       "      <td>2750</td>\n",
       "      <td>172.45</td>\n",
       "      <td>3500</td>\n",
       "    </tr>\n",
       "  </tbody>\n",
       "</table>\n",
       "</div>"
      ],
      "text/plain": [
       "             car_name  reviews_count fuel_type  engine_displacement  \\\n",
       "0     Maruti Alto K10             51    Petrol                  998   \n",
       "1       Maruti Brezza             86    Petrol                 1462   \n",
       "2       Mahindra Thar            242    Diesel                 2184   \n",
       "3     Mahindra XUV700            313    Diesel                 2198   \n",
       "4  Mahindra Scorpio-N            107    Diesel                 2198   \n",
       "\n",
       "   no_cylinder  seating_capacity transmission_type  fuel_tank_capacity  \\\n",
       "0            3                 5         Automatic                27.0   \n",
       "1            4                 5         Automatic                48.0   \n",
       "2            4                 4         Automatic                57.0   \n",
       "3            4                 7         Automatic                60.0   \n",
       "4            4                 7         Automatic                57.0   \n",
       "\n",
       "   body_type  rating  starting_price  ending_price  max_torque_nm  \\\n",
       "0  Hatchback     4.5          399000        583000           89.0   \n",
       "1        SUV     4.5          799000       1396000          136.8   \n",
       "2        SUV     4.5         1353000       1603000          300.0   \n",
       "3        SUV     4.5         1318000       2458000          450.0   \n",
       "4        SUV     4.5         1199000       2390000          400.0   \n",
       "\n",
       "   max_torque_rpm  max_power_bhp  max_power_rp  \n",
       "0            3500          65.71          5500  \n",
       "1            4400         101.65          6000  \n",
       "2            2800         130.00          3750  \n",
       "3            2800         182.38          3500  \n",
       "4            2750         172.45          3500  "
      ]
     },
     "execution_count": 6,
     "metadata": {},
     "output_type": "execute_result"
    }
   ],
   "source": [
    "df = pd.read_csv(\"../../datasets/CARS.csv\")\n",
    "df.head()"
   ]
  },
  {
   "cell_type": "markdown",
   "id": "b03906c5",
   "metadata": {},
   "source": [
    "checking data type of dataset"
   ]
  },
  {
   "cell_type": "code",
   "execution_count": 7,
   "id": "b5ea282a",
   "metadata": {},
   "outputs": [
    {
     "data": {
      "text/plain": [
       "car_name                object\n",
       "reviews_count            int64\n",
       "fuel_type               object\n",
       "engine_displacement      int64\n",
       "no_cylinder              int64\n",
       "seating_capacity         int64\n",
       "transmission_type       object\n",
       "fuel_tank_capacity     float64\n",
       "body_type               object\n",
       "rating                 float64\n",
       "starting_price           int64\n",
       "ending_price             int64\n",
       "max_torque_nm          float64\n",
       "max_torque_rpm           int64\n",
       "max_power_bhp          float64\n",
       "max_power_rp             int64\n",
       "dtype: object"
      ]
     },
     "execution_count": 7,
     "metadata": {},
     "output_type": "execute_result"
    }
   ],
   "source": [
    "df.dtypes"
   ]
  },
  {
   "cell_type": "markdown",
   "id": "1ee331d4",
   "metadata": {},
   "source": [
    "### checking for null values"
   ]
  },
  {
   "cell_type": "code",
   "execution_count": 8,
   "id": "88a8275c",
   "metadata": {},
   "outputs": [
    {
     "data": {
      "text/plain": [
       "car_name               0\n",
       "reviews_count          0\n",
       "fuel_type              0\n",
       "engine_displacement    0\n",
       "no_cylinder            0\n",
       "seating_capacity       0\n",
       "transmission_type      0\n",
       "fuel_tank_capacity     0\n",
       "body_type              0\n",
       "rating                 0\n",
       "starting_price         0\n",
       "ending_price           0\n",
       "max_torque_nm          0\n",
       "max_torque_rpm         0\n",
       "max_power_bhp          0\n",
       "max_power_rp           0\n",
       "dtype: int64"
      ]
     },
     "execution_count": 8,
     "metadata": {},
     "output_type": "execute_result"
    }
   ],
   "source": [
    "df.isnull().sum()"
   ]
  },
  {
   "cell_type": "markdown",
   "id": "0c3623fe",
   "metadata": {},
   "source": [
    "After checking, since there is no null values, we are going for the visualization of dataset"
   ]
  },
  {
   "cell_type": "markdown",
   "id": "211141b8",
   "metadata": {},
   "source": [
    "### Visualization"
   ]
  },
  {
   "cell_type": "markdown",
   "id": "b3901f6f",
   "metadata": {},
   "source": [
    "plotting car name and starting price on bar plot."
   ]
  },
  {
   "cell_type": "code",
   "execution_count": 23,
   "id": "c12282f9",
   "metadata": {},
   "outputs": [
    {
     "data": {
      "text/plain": [
       "<matplotlib.legend.Legend at 0x7f7ed8a6e610>"
      ]
     },
     "execution_count": 23,
     "metadata": {},
     "output_type": "execute_result"
    },
    {
     "name": "stderr",
     "output_type": "stream",
     "text": [
      "/usr/local/lib/python3.8/dist-packages/matplotlib/backends/backend_agg.py:240: RuntimeWarning: Glyph 9 missing from current font.\n",
      "  font.set_text(s, 0.0, flags=flags)\n",
      "/usr/local/lib/python3.8/dist-packages/matplotlib/backends/backend_agg.py:203: RuntimeWarning: Glyph 9 missing from current font.\n",
      "  font.set_text(s, 0, flags=flags)\n"
     ]
    },
    {
     "data": {
      "image/png": "[encoded data removed]",
      "text/plain": [
       "<Figure size 432x288 with 1 Axes>"
      ]
     },
     "metadata": {},
     "output_type": "display_data"
    }
   ],
   "source": [
    "w = 0.3\n",
    "\n",
    "x = [\"Alto K10\",\"Brezza\t\",\"Thar\t\"]\n",
    "keep = [30,50,70]\n",
    "\n",
    "\n",
    "bar1 = np.arange(len (x))\n",
    "bar2 = [i+ w for i in bar1]\n",
    "\n",
    "plt.bar(bar1,keep,w,label='keep')\n",
    "\n",
    "       \n",
    "plt.xlabel('Cars')\n",
    "plt.ylabel('starting price')\n",
    "plt.xticks(bar1+w/2,x)        \n",
    "plt.title('BAR GRAPH')\n",
    "plt.legend()\n",
    "\n"
   ]
  },
  {
   "cell_type": "markdown",
   "id": "e157bb5f",
   "metadata": {},
   "source": [
    "Thar has the highest starting price."
   ]
  },
  {
   "cell_type": "markdown",
   "id": "0743b829",
   "metadata": {},
   "source": [
    "### Comparing starting and ending price"
   ]
  },
  {
   "cell_type": "code",
   "execution_count": 24,
   "id": "9dcf1e71",
   "metadata": {},
   "outputs": [
    {
     "data": {
      "text/plain": [
       "<matplotlib.legend.Legend at 0x7f7ee9d655e0>"
      ]
     },
     "execution_count": 24,
     "metadata": {},
     "output_type": "execute_result"
    },
    {
     "data": {
      "image/png": "[encoded data removed]",
      "text/plain": [
       "<Figure size 432x288 with 1 Axes>"
      ]
     },
     "metadata": {},
     "output_type": "display_data"
    }
   ],
   "source": [
    "w = 0.3\n",
    "\n",
    "x = [\"Alto K10\",\"Brezza\t\",\"Thar\t\"]\n",
    "keep = [30,50,70]\n",
    "end = [20,80,90]\n",
    "\n",
    "\n",
    "bar1 = np.arange(len (x))\n",
    "bar2 = [i+ w for i in bar1]\n",
    "\n",
    "plt.bar(bar1,keep,w,label='keep')\n",
    "plt.bar(bar2,end,w,label='end')\n",
    "       \n",
    "plt.xlabel('Cars')\n",
    "plt.ylabel('ending price')\n",
    "plt.xticks(bar1+w/2,x)        \n",
    "plt.title('BAR GRAPH')\n",
    "plt.legend()"
   ]
  },
  {
   "cell_type": "markdown",
   "id": "8d66569f",
   "metadata": {},
   "source": [
    "comparing ending and starting price. Thar still has the highest ending and starting price. "
   ]
  },
  {
   "cell_type": "code",
   "execution_count": 21,
   "id": "0afcc5c6",
   "metadata": {},
   "outputs": [
    {
     "data": {
      "text/plain": [
       "<seaborn.axisgrid.FacetGrid at 0x7f7ee2f80f10>"
      ]
     },
     "execution_count": 21,
     "metadata": {},
     "output_type": "execute_result"
    },
    {
     "data": {
      "image/png": "[encoded data removed]",
      "text/plain": [
       "<Figure size 360x360 with 1 Axes>"
      ]
     },
     "metadata": {},
     "output_type": "display_data"
    }
   ],
   "source": [
    "sns.displot(df[\"rating\"])"
   ]
  },
  {
   "cell_type": "markdown",
   "id": "b3b9568c",
   "metadata": {},
   "source": [
    "rating 4.5 is the highest when checked."
   ]
  },
  {
   "cell_type": "markdown",
   "id": "7a017188",
   "metadata": {},
   "source": [
    "plotting  reviews count and rating on pairplot."
   ]
  },
  {
   "cell_type": "code",
   "execution_count": 22,
   "id": "270338d2",
   "metadata": {},
   "outputs": [
    {
     "data": {
      "image/png": "[encoded data removed]",
      "text/plain": [
       "<Figure size 360x360 with 6 Axes>"
      ]
     },
     "metadata": {},
     "output_type": "display_data"
    }
   ],
   "source": [
    "df = sns.pairplot(df[['car_name','reviews_count','rating']])"
   ]
  },
  {
   "cell_type": "markdown",
   "id": "c2e6d467",
   "metadata": {},
   "source": [
    "plotting rating and review counts."
   ]
  },
  {
   "cell_type": "markdown",
   "id": "fc113ec5",
   "metadata": {},
   "source": [
    "next we are going to split our dataset into train and test sets"
   ]
  },
  {
   "cell_type": "markdown",
   "id": "7c88bb17",
   "metadata": {},
   "source": [
    "### Splitting dataset into train and test"
   ]
  },
  {
   "cell_type": "code",
   "execution_count": 9,
   "id": "abb593f0",
   "metadata": {},
   "outputs": [
    {
     "name": "stdout",
     "output_type": "stream",
     "text": [
      "df_train size :  (152, 16)\n",
      "df_test size :  (51, 16)\n"
     ]
    }
   ],
   "source": [
    "df_train,df_test = sklearn.model_selection.train_test_split(df)\n",
    "\n",
    "print(\"df_train size : \", df_train.shape) #size of train set\n",
    "print(\"df_test size : \", df_test.shape) #size of test set"
   ]
  },
  {
   "cell_type": "markdown",
   "id": "159406e4",
   "metadata": {},
   "source": [
    "we are going to see if the values are intact or not"
   ]
  },
  {
   "cell_type": "code",
   "execution_count": 10,
   "id": "570649cf",
   "metadata": {},
   "outputs": [
    {
     "data": {
      "text/plain": [
       "1      14\n",
       "2       9\n",
       "3       9\n",
       "5       7\n",
       "6       6\n",
       "       ..\n",
       "137     1\n",
       "30      1\n",
       "99      1\n",
       "257     1\n",
       "69      1\n",
       "Name: reviews_count, Length: 74, dtype: int64"
      ]
     },
     "execution_count": 10,
     "metadata": {},
     "output_type": "execute_result"
    }
   ],
   "source": [
    "df_train[\"reviews_count\"].value_counts()"
   ]
  },
  {
   "cell_type": "markdown",
   "id": "f32fbfae",
   "metadata": {},
   "source": [
    "Eventhoug we know, there are no null values, we will do data preprocessing and feature engineering anyway."
   ]
  },
  {
   "cell_type": "markdown",
   "id": "4a2d2510",
   "metadata": {},
   "source": [
    "### Data preprocessing and Feature engineering"
   ]
  },
  {
   "cell_type": "code",
   "execution_count": 11,
   "id": "b856576b",
   "metadata": {},
   "outputs": [
    {
     "name": "stdout",
     "output_type": "stream",
     "text": [
      "df_train size:  (152, 16)\n",
      "df_test size:  (51, 16)\n"
     ]
    }
   ],
   "source": [
    "df_train = df_train.replace(\"?\",pd.NaT)\n",
    "df_train = df_train.dropna()\n",
    "\n",
    "df_test = df_test.replace(\"?\",pd.NaT)\n",
    "df_test = df_test.dropna()\n",
    "\n",
    "print(\"df_train size: \",df_train.shape)\n",
    "print(\"df_test size: \",df_test.shape)\n",
    "\n"
   ]
  },
  {
   "cell_type": "markdown",
   "id": "aad8b9a2",
   "metadata": {},
   "source": [
    "### Seperating target and feature vector"
   ]
  },
  {
   "cell_type": "code",
   "execution_count": 12,
   "id": "0ae55120",
   "metadata": {},
   "outputs": [
    {
     "name": "stdout",
     "output_type": "stream",
     "text": [
      "x_test size :  (51, 15)\n",
      "x_train size :  (152, 15)\n",
      "y_train size :  (152,)\n",
      "y_test size :  (51,)\n"
     ]
    }
   ],
   "source": [
    "x_train = df_train.drop([\"reviews_count\"],axis = 1)\n",
    "y_train = df_train[\"reviews_count\"]\n",
    "\n",
    "x_test = df_test.drop([\"reviews_count\"], axis = 1)\n",
    "y_test = df_test[\"reviews_count\"]\n",
    "\n",
    "print(\"x_test size : \",x_test.shape) \n",
    "print(\"x_train size : \",x_train.shape)\n",
    "print(\"y_train size : \",y_train.shape)\n",
    "print(\"y_test size : \",y_test.shape)"
   ]
  },
  {
   "cell_type": "markdown",
   "id": "d5109ff9",
   "metadata": {},
   "source": [
    "now we have seperated target and feature vector and printed the sizes, we are going to encode our dataset "
   ]
  },
  {
   "cell_type": "markdown",
   "id": "9d880c27",
   "metadata": {},
   "source": [
    "### Encoding dataset"
   ]
  },
  {
   "cell_type": "code",
   "execution_count": 13,
   "id": "79a0211c",
   "metadata": {},
   "outputs": [
    {
     "name": "stdout",
     "output_type": "stream",
     "text": [
      "x train :  (152, 845)\n",
      "x test :  (51, 845)\n"
     ]
    }
   ],
   "source": [
    "enc = sklearn.preprocessing.OneHotEncoder(handle_unknown = \"ignore\")\n",
    "enc.fit(x_train)\n",
    "\n",
    "x_train = enc.transform(x_train)\n",
    "x_test = enc.transform(x_test)\n",
    "\n",
    "\n",
    "print(\"x train : \",x_train.shape)\n",
    "print(\"x test : \",x_test.shape)"
   ]
  },
  {
   "cell_type": "markdown",
   "id": "9ebb0137",
   "metadata": {},
   "source": [
    "next step is standardization"
   ]
  },
  {
   "cell_type": "markdown",
   "id": "8e8a7fec",
   "metadata": {},
   "source": [
    "### Standardization"
   ]
  },
  {
   "cell_type": "code",
   "execution_count": 14,
   "id": "cad1b913",
   "metadata": {},
   "outputs": [
    {
     "name": "stdout",
     "output_type": "stream",
     "text": [
      "x train :  (152, 845)\n",
      "x test :  (51, 845)\n"
     ]
    }
   ],
   "source": [
    "stand = sklearn.preprocessing.StandardScaler(with_mean = False)\n",
    "stand.fit(x_train)\n",
    "\n",
    "x_train = stand.transform(x_train)\n",
    "x_test = stand.transform(x_test)\n",
    "\n",
    "print(\"x train : \",x_train.shape)\n",
    "print(\"x test : \",x_test.shape)"
   ]
  },
  {
   "cell_type": "markdown",
   "id": "75e03133",
   "metadata": {},
   "source": [
    "next we need to reduce our dimension"
   ]
  },
  {
   "cell_type": "markdown",
   "id": "877ef42e",
   "metadata": {},
   "source": [
    "### dimensionality reduction"
   ]
  },
  {
   "cell_type": "code",
   "execution_count": 15,
   "id": "aff47071",
   "metadata": {},
   "outputs": [
    {
     "name": "stdout",
     "output_type": "stream",
     "text": [
      "x_train:  (152, 50)\n",
      "x_test:  (51, 50)\n"
     ]
    }
   ],
   "source": [
    "dim = sklearn.decomposition.PCA(n_components = 50)\n",
    "dim.fit(x_train.toarray())\n",
    "\n",
    "x_train = dim.transform(x_train.toarray())\n",
    "\n",
    "x_test = dim.transform(x_test.toarray())\n",
    "\n",
    "print(\"x_train: \", x_train.shape)\n",
    "print(\"x_test: \", x_test.shape)"
   ]
  },
  {
   "cell_type": "markdown",
   "id": "48aaa4ba",
   "metadata": {},
   "source": [
    "when we compare the sizes, we can see that the dimension is reduced."
   ]
  },
  {
   "cell_type": "markdown",
   "id": "ecd539c6",
   "metadata": {},
   "source": [
    "now we need to see which hyper parameter and algorithm we should use to build the model."
   ]
  },
  {
   "cell_type": "markdown",
   "id": "dc872c53",
   "metadata": {},
   "source": [
    "### Hyper parameter tuning and Algorithm selection"
   ]
  },
  {
   "cell_type": "markdown",
   "id": "b8c71f6e",
   "metadata": {},
   "source": [
    "we will check svm, decision tree and linear regression to see which method and paramater we should use with grid search"
   ]
  },
  {
   "cell_type": "markdown",
   "id": "9ea2159a",
   "metadata": {},
   "source": [
    "## Decision Tree"
   ]
  },
  {
   "cell_type": "code",
   "execution_count": 16,
   "id": "5cb230ae",
   "metadata": {},
   "outputs": [
    {
     "name": "stdout",
     "output_type": "stream",
     "text": [
      "mse of decision tree Regressor = -125445.48\n"
     ]
    }
   ],
   "source": [
    "para_grid1 = { \n",
    "   # \"criterion\" : [\"gini\", \"entropy\"],\n",
    "    #\"max_depth\" : range(1,20,3),\n",
    "   \n",
    "    \n",
    "}\n",
    "model1 = sklearn.model_selection.GridSearchCV(sklearn.tree.DecisionTreeRegressor(),\n",
    "                                             para_grid1, scoring = \"neg_mean_squared_error\", cv = 5, n_jobs = None)\n",
    "model1.fit(x_train,y_train)\n",
    "print(\"mse of decision tree Regressor = {:.2f}\".format(model1.best_score_))\n"
   ]
  },
  {
   "cell_type": "markdown",
   "id": "c01e1220",
   "metadata": {},
   "source": [
    "we found the mean squared error and of decision tree. Next we check SVM"
   ]
  },
  {
   "cell_type": "markdown",
   "id": "6601b871",
   "metadata": {},
   "source": [
    "### SVM"
   ]
  },
  {
   "cell_type": "code",
   "execution_count": 17,
   "id": "562a061d",
   "metadata": {},
   "outputs": [
    {
     "name": "stderr",
     "output_type": "stream",
     "text": [
      "/usr/local/lib/python3.8/dist-packages/sklearn/model_selection/_split.py:666: UserWarning: The least populated class in y has only 1 members, which is less than n_splits=5.\n",
      "  warnings.warn((\"The least populated class in y has only %d\"\n"
     ]
    },
    {
     "name": "stdout",
     "output_type": "stream",
     "text": [
      "mse of SVM Regressor = -86504.28\n",
      "best paramters of SVM Regressor = {'C': 10, 'kernel': 'poly'}\n"
     ]
    }
   ],
   "source": [
    "para_grid2 = { \n",
    "    \"kernel\" : [\"rbf\", \"poly\"],\n",
    "    \"C\" : [0.0001, 0.001, 0.01, 0.1, 1, 10]\n",
    "    \n",
    "}\n",
    "model2 = sklearn.model_selection.GridSearchCV(sklearn.svm.SVC(),\n",
    "                                             para_grid2, scoring = \"neg_mean_squared_error\", cv = 5, n_jobs = None)\n",
    "model2.fit(x_train,y_train)\n",
    "print(\"mse of SVM Regressor = {:.2f}\".format(model2.best_score_))\n",
    "print(\"best paramters of SVM Regressor = {}\".format(model2.best_params_))"
   ]
  },
  {
   "cell_type": "markdown",
   "id": "4218cd57",
   "metadata": {},
   "source": [
    "we found the mean squared error andn best parameters of SVM. Next we check KNN"
   ]
  },
  {
   "cell_type": "markdown",
   "id": "276936d7",
   "metadata": {},
   "source": [
    "### Linear Regression"
   ]
  },
  {
   "cell_type": "code",
   "execution_count": 18,
   "id": "f09acead",
   "metadata": {},
   "outputs": [
    {
     "name": "stdout",
     "output_type": "stream",
     "text": [
      "mse of Linear regrresion = -221566.28\n",
      "best paramters of linear regression = {'n_jobs': 1, 'normalize': 'True'}\n"
     ]
    }
   ],
   "source": [
    "para_grid4 = {\n",
    "    \"n_jobs\" : range(1,10,2),\n",
    "    \"normalize\" : [\"True\",\"False\"]\n",
    "}\n",
    "model4 = sklearn.model_selection.GridSearchCV(sklearn.linear_model.LinearRegression(),\n",
    "                                             para_grid4, scoring = \"neg_mean_squared_error\",)\n",
    "model4.fit(x_train,y_train)\n",
    "print(\"mse of Linear regrresion = {:.2f}\".format(model4.best_score_))\n",
    "print(\"best paramters of linear regression = {}\".format(model4.best_params_))"
   ]
  },
  {
   "cell_type": "markdown",
   "id": "0523d8e5",
   "metadata": {},
   "source": [
    "we found the mean squared error and best parameters of Linear Regression. Next we test the best model."
   ]
  },
  {
   "cell_type": "markdown",
   "id": "944017d3",
   "metadata": {},
   "source": [
    "### Testing the best model"
   ]
  },
  {
   "cell_type": "code",
   "execution_count": 19,
   "id": "48ac3b99",
   "metadata": {},
   "outputs": [
    {
     "name": "stdout",
     "output_type": "stream",
     "text": [
      "MSE = 162355.86274509804\n",
      "Precision = [0.03921569 0.         0.         0.         0.         0.\n",
      " 0.         0.         0.         0.         0.         0.\n",
      " 0.         0.         0.         0.         0.         0.\n",
      " 0.         0.         0.         0.         0.         0.\n",
      " 0.         0.         0.         0.         0.         0.\n",
      " 0.         0.         0.         0.         0.         0.\n",
      " 0.        ]\n",
      "Recall = [1. 0. 0. 0. 0. 0. 0. 0. 0. 0. 0. 0. 0. 0. 0. 0. 0. 0. 0. 0. 0. 0. 0. 0.\n",
      " 0. 0. 0. 0. 0. 0. 0. 0. 0. 0. 0. 0. 0.]\n",
      "F1-Score = [0.0754717 0.        0.        0.        0.        0.        0.\n",
      " 0.        0.        0.        0.        0.        0.        0.\n",
      " 0.        0.        0.        0.        0.        0.        0.\n",
      " 0.        0.        0.        0.        0.        0.        0.\n",
      " 0.        0.        0.        0.        0.        0.        0.\n",
      " 0.        0.       ]\n",
      "Confusion Matrix :\n",
      " [[2 0 0 ... 0 0 0]\n",
      " [2 0 0 ... 0 0 0]\n",
      " [2 0 0 ... 0 0 0]\n",
      " ...\n",
      " [1 0 0 ... 0 0 0]\n",
      " [1 0 0 ... 0 0 0]\n",
      " [1 0 0 ... 0 0 0]]\n"
     ]
    },
    {
     "name": "stderr",
     "output_type": "stream",
     "text": [
      "/usr/local/lib/python3.8/dist-packages/sklearn/metrics/_classification.py:1248: UndefinedMetricWarning: Precision and F-score are ill-defined and being set to 0.0 in labels with no predicted samples. Use `zero_division` parameter to control this behavior.\n",
      "  _warn_prf(average, modifier, msg_start, len(result))\n"
     ]
    }
   ],
   "source": [
    "y_predict = model2.predict(x_test)\n",
    "MSE = sklearn.metrics.mean_squared_error(y_test,y_predict)\n",
    "CM = sklearn.metrics.confusion_matrix(y_test,y_predict)\n",
    "precision, recall, f1, support = sklearn.metrics.precision_recall_fscore_support(y_test, y_predict)\n",
    "\n",
    "\n",
    "print(\"MSE =\", MSE)\n",
    "print(\"Precision =\", precision)\n",
    "print(\"Recall =\", recall)\n",
    "print(\"F1-Score =\", f1)\n",
    "print(\"Confusion Matrix :\\n\", CM)"
   ]
  },
  {
   "cell_type": "markdown",
   "id": "ac035a79",
   "metadata": {},
   "source": [
    "We have created the model. Now we can use this model to understand how many people will give reviews for the beta version next model, and use these reviews to conclude whethere the public liked the model or not. If not my client will release the model with more features so that it will be the most sold automobile in the coming year. This model can be used not only for automobiles but any other products."
   ]
  },
  {
   "cell_type": "markdown",
   "id": "d4aee4b3",
   "metadata": {},
   "source": [
    "### Classification report"
   ]
  },
  {
   "cell_type": "code",
   "execution_count": 20,
   "id": "4c68811a",
   "metadata": {},
   "outputs": [
    {
     "name": "stderr",
     "output_type": "stream",
     "text": [
      "/usr/local/lib/python3.8/dist-packages/sklearn/metrics/_classification.py:1248: UndefinedMetricWarning: Precision and F-score are ill-defined and being set to 0.0 in labels with no predicted samples. Use `zero_division` parameter to control this behavior.\n",
      "  _warn_prf(average, modifier, msg_start, len(result))\n",
      "/usr/local/lib/python3.8/dist-packages/sklearn/metrics/_classification.py:1248: UndefinedMetricWarning: Precision and F-score are ill-defined and being set to 0.0 in labels with no predicted samples. Use `zero_division` parameter to control this behavior.\n",
      "  _warn_prf(average, modifier, msg_start, len(result))\n",
      "/usr/local/lib/python3.8/dist-packages/sklearn/metrics/_classification.py:1248: UndefinedMetricWarning: Precision and F-score are ill-defined and being set to 0.0 in labels with no predicted samples. Use `zero_division` parameter to control this behavior.\n",
      "  _warn_prf(average, modifier, msg_start, len(result))\n"
     ]
    },
    {
     "data": {
      "text/plain": [
       "'              precision    recall  f1-score   support\\n\\n           1       0.04      1.00      0.08         2\\n           2       0.00      0.00      0.00         2\\n           3       0.00      0.00      0.00         2\\n           4       0.00      0.00      0.00         2\\n           5       0.00      0.00      0.00         2\\n           6       0.00      0.00      0.00         3\\n           7       0.00      0.00      0.00         1\\n           8       0.00      0.00      0.00         5\\n           9       0.00      0.00      0.00         2\\n          10       0.00      0.00      0.00         1\\n          11       0.00      0.00      0.00         2\\n          14       0.00      0.00      0.00         1\\n          15       0.00      0.00      0.00         2\\n          18       0.00      0.00      0.00         1\\n          19       0.00      0.00      0.00         1\\n          28       0.00      0.00      0.00         1\\n          35       0.00      0.00      0.00         1\\n          38       0.00      0.00      0.00         1\\n          51       0.00      0.00      0.00         1\\n          60       0.00      0.00      0.00         1\\n          67       0.00      0.00      0.00         1\\n          77       0.00      0.00      0.00         1\\n          85       0.00      0.00      0.00         1\\n         172       0.00      0.00      0.00         1\\n         200       0.00      0.00      0.00         1\\n         205       0.00      0.00      0.00         1\\n         207       0.00      0.00      0.00         1\\n         226       0.00      0.00      0.00         1\\n         234       0.00      0.00      0.00         1\\n         432       0.00      0.00      0.00         1\\n         435       0.00      0.00      0.00         1\\n         523       0.00      0.00      0.00         1\\n         532       0.00      0.00      0.00         1\\n         545       0.00      0.00      0.00         1\\n         774       0.00      0.00      0.00         1\\n        1067       0.00      0.00      0.00         1\\n        2245       0.00      0.00      0.00         1\\n\\n    accuracy                           0.04        51\\n   macro avg       0.00      0.03      0.00        51\\nweighted avg       0.00      0.04      0.00        51\\n'"
      ]
     },
     "execution_count": 20,
     "metadata": {},
     "output_type": "execute_result"
    }
   ],
   "source": [
    "sklearn.metrics.classification_report(y_test,y_predict)"
   ]
  },
  {
   "cell_type": "markdown",
   "id": "bef40e7b",
   "metadata": {},
   "source": [
    "### Reference"
   ]
  },
  {
   "cell_type": "markdown",
   "id": "938d0038",
   "metadata": {},
   "source": [
    "https://www.kaggle.com/datasets?page=2 -- Dataset"
   ]
  },
  {
   "cell_type": "code",
   "execution_count": null,
   "id": "bd79c947",
   "metadata": {},
   "outputs": [],
   "source": []
  }
 ],
 "metadata": {
  "kernelspec": {
   "display_name": "Python 3 (ipykernel)",
   "language": "python",
   "name": "python3"
  },
  "language_info": {
   "codemirror_mode": {
    "name": "ipython",
    "version": 3
   },
   "file_extension": ".py",
   "mimetype": "text/x-python",
   "name": "python",
   "nbconvert_exporter": "python",
   "pygments_lexer": "ipython3",
   "version": "3.8.12"
  }
 },
 "nbformat": 4,
 "nbformat_minor": 5
}
