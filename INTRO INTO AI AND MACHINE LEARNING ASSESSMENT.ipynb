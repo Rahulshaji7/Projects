{
 "cells": [
  {
   "cell_type": "markdown",
   "id": "8963ec7f",
   "metadata": {},
   "source": [
    "Telecom which is a phone company have approached me to build a pipeline to predict the number of their customers who will churn or stop using their service in the coming future. As a data scientist, it is my duty to build a precise and effective model for my client to solve their business problem by predicting the churn ratio, so that they can improve their business."
   ]
  },
  {
   "cell_type": "markdown",
   "id": "a125c020",
   "metadata": {},
   "source": [
    "# IMPORTING LIBRARIES"
   ]
  },
  {
   "cell_type": "code",
   "execution_count": 5,
   "id": "d1b5933a",
   "metadata": {},
   "outputs": [],
   "source": [
    "import pandas as pd\n",
    "import numpy as np"
   ]
  },
  {
   "cell_type": "code",
   "execution_count": 6,
   "id": "863c0f9a",
   "metadata": {},
   "outputs": [],
   "source": [
    "import sklearn.preprocessing"
   ]
  },
  {
   "cell_type": "code",
   "execution_count": 7,
   "id": "fb8ed0bd",
   "metadata": {},
   "outputs": [],
   "source": [
    "import sklearn.model_selection\n",
    "import sklearn.tree\n",
    "import sklearn.svm\n",
    "import sklearn.neighbors\n",
    "import sklearn.linear_model\n",
    "import sklearn.model_selection\n",
    "import sklearn.decomposition"
   ]
  },
  {
   "cell_type": "markdown",
   "id": "016eea54",
   "metadata": {},
   "source": [
    "# IMPORTING VISUALIZATION LIBRARIES "
   ]
  },
  {
   "cell_type": "code",
   "execution_count": 8,
   "id": "15c8771f",
   "metadata": {},
   "outputs": [],
   "source": [
    "import seaborn\n",
    "import seaborn as sns\n",
    "import matplotlib.figure\n",
    "sns.set(color_codes = True)\n",
    "import plotly.graph_objs as go\n",
    "import matplotlib.pyplot as plt\n",
    "import matplotlib.pyplot as figure "
   ]
  },
  {
   "cell_type": "markdown",
   "id": "8907a87e",
   "metadata": {},
   "source": [
    "# LOADING THE DATASET"
   ]
  },
  {
   "cell_type": "code",
   "execution_count": 9,
   "id": "ab988ea4",
   "metadata": {},
   "outputs": [
    {
     "data": {
      "text/html": [
       "<div>\n",
       "<style scoped>\n",
       "    .dataframe tbody tr th:only-of-type {\n",
       "        vertical-align: middle;\n",
       "    }\n",
       "\n",
       "    .dataframe tbody tr th {\n",
       "        vertical-align: top;\n",
       "    }\n",
       "\n",
       "    .dataframe thead th {\n",
       "        text-align: right;\n",
       "    }\n",
       "</style>\n",
       "<table border=\"1\" class=\"dataframe\">\n",
       "  <thead>\n",
       "    <tr style=\"text-align: right;\">\n",
       "      <th></th>\n",
       "      <th>customerID</th>\n",
       "      <th>gender</th>\n",
       "      <th>SeniorCitizen</th>\n",
       "      <th>Partner</th>\n",
       "      <th>Dependents</th>\n",
       "      <th>tenure</th>\n",
       "      <th>PhoneService</th>\n",
       "      <th>MultipleLines</th>\n",
       "      <th>InternetService</th>\n",
       "      <th>OnlineSecurity</th>\n",
       "      <th>...</th>\n",
       "      <th>DeviceProtection</th>\n",
       "      <th>TechSupport</th>\n",
       "      <th>StreamingTV</th>\n",
       "      <th>StreamingMovies</th>\n",
       "      <th>Contract</th>\n",
       "      <th>PaperlessBilling</th>\n",
       "      <th>PaymentMethod</th>\n",
       "      <th>MonthlyCharges</th>\n",
       "      <th>TotalCharges</th>\n",
       "      <th>Churn</th>\n",
       "    </tr>\n",
       "  </thead>\n",
       "  <tbody>\n",
       "    <tr>\n",
       "      <th>0</th>\n",
       "      <td>7590-VHVEG</td>\n",
       "      <td>Female</td>\n",
       "      <td>0</td>\n",
       "      <td>Yes</td>\n",
       "      <td>No</td>\n",
       "      <td>1</td>\n",
       "      <td>No</td>\n",
       "      <td>No phone service</td>\n",
       "      <td>DSL</td>\n",
       "      <td>No</td>\n",
       "      <td>...</td>\n",
       "      <td>No</td>\n",
       "      <td>No</td>\n",
       "      <td>No</td>\n",
       "      <td>No</td>\n",
       "      <td>Month-to-month</td>\n",
       "      <td>Yes</td>\n",
       "      <td>Electronic check</td>\n",
       "      <td>29.85</td>\n",
       "      <td>29.85</td>\n",
       "      <td>No</td>\n",
       "    </tr>\n",
       "    <tr>\n",
       "      <th>1</th>\n",
       "      <td>5575-GNVDE</td>\n",
       "      <td>Male</td>\n",
       "      <td>0</td>\n",
       "      <td>No</td>\n",
       "      <td>No</td>\n",
       "      <td>34</td>\n",
       "      <td>Yes</td>\n",
       "      <td>No</td>\n",
       "      <td>DSL</td>\n",
       "      <td>Yes</td>\n",
       "      <td>...</td>\n",
       "      <td>Yes</td>\n",
       "      <td>No</td>\n",
       "      <td>No</td>\n",
       "      <td>No</td>\n",
       "      <td>One year</td>\n",
       "      <td>No</td>\n",
       "      <td>Mailed check</td>\n",
       "      <td>56.95</td>\n",
       "      <td>1889.5</td>\n",
       "      <td>No</td>\n",
       "    </tr>\n",
       "    <tr>\n",
       "      <th>2</th>\n",
       "      <td>3668-QPYBK</td>\n",
       "      <td>Male</td>\n",
       "      <td>0</td>\n",
       "      <td>No</td>\n",
       "      <td>No</td>\n",
       "      <td>2</td>\n",
       "      <td>Yes</td>\n",
       "      <td>No</td>\n",
       "      <td>DSL</td>\n",
       "      <td>Yes</td>\n",
       "      <td>...</td>\n",
       "      <td>No</td>\n",
       "      <td>No</td>\n",
       "      <td>No</td>\n",
       "      <td>No</td>\n",
       "      <td>Month-to-month</td>\n",
       "      <td>Yes</td>\n",
       "      <td>Mailed check</td>\n",
       "      <td>53.85</td>\n",
       "      <td>108.15</td>\n",
       "      <td>Yes</td>\n",
       "    </tr>\n",
       "    <tr>\n",
       "      <th>3</th>\n",
       "      <td>7795-CFOCW</td>\n",
       "      <td>Male</td>\n",
       "      <td>0</td>\n",
       "      <td>No</td>\n",
       "      <td>No</td>\n",
       "      <td>45</td>\n",
       "      <td>No</td>\n",
       "      <td>No phone service</td>\n",
       "      <td>DSL</td>\n",
       "      <td>Yes</td>\n",
       "      <td>...</td>\n",
       "      <td>Yes</td>\n",
       "      <td>Yes</td>\n",
       "      <td>No</td>\n",
       "      <td>No</td>\n",
       "      <td>One year</td>\n",
       "      <td>No</td>\n",
       "      <td>Bank transfer (automatic)</td>\n",
       "      <td>42.30</td>\n",
       "      <td>1840.75</td>\n",
       "      <td>No</td>\n",
       "    </tr>\n",
       "    <tr>\n",
       "      <th>4</th>\n",
       "      <td>9237-HQITU</td>\n",
       "      <td>Female</td>\n",
       "      <td>0</td>\n",
       "      <td>No</td>\n",
       "      <td>No</td>\n",
       "      <td>2</td>\n",
       "      <td>Yes</td>\n",
       "      <td>No</td>\n",
       "      <td>Fiber optic</td>\n",
       "      <td>No</td>\n",
       "      <td>...</td>\n",
       "      <td>No</td>\n",
       "      <td>No</td>\n",
       "      <td>No</td>\n",
       "      <td>No</td>\n",
       "      <td>Month-to-month</td>\n",
       "      <td>Yes</td>\n",
       "      <td>Electronic check</td>\n",
       "      <td>70.70</td>\n",
       "      <td>151.65</td>\n",
       "      <td>Yes</td>\n",
       "    </tr>\n",
       "    <tr>\n",
       "      <th>5</th>\n",
       "      <td>9305-CDSKC</td>\n",
       "      <td>Female</td>\n",
       "      <td>0</td>\n",
       "      <td>No</td>\n",
       "      <td>No</td>\n",
       "      <td>8</td>\n",
       "      <td>Yes</td>\n",
       "      <td>Yes</td>\n",
       "      <td>Fiber optic</td>\n",
       "      <td>No</td>\n",
       "      <td>...</td>\n",
       "      <td>Yes</td>\n",
       "      <td>No</td>\n",
       "      <td>Yes</td>\n",
       "      <td>Yes</td>\n",
       "      <td>Month-to-month</td>\n",
       "      <td>Yes</td>\n",
       "      <td>Electronic check</td>\n",
       "      <td>99.65</td>\n",
       "      <td>820.5</td>\n",
       "      <td>Yes</td>\n",
       "    </tr>\n",
       "    <tr>\n",
       "      <th>6</th>\n",
       "      <td>1452-KIOVK</td>\n",
       "      <td>Male</td>\n",
       "      <td>0</td>\n",
       "      <td>No</td>\n",
       "      <td>Yes</td>\n",
       "      <td>22</td>\n",
       "      <td>Yes</td>\n",
       "      <td>Yes</td>\n",
       "      <td>Fiber optic</td>\n",
       "      <td>No</td>\n",
       "      <td>...</td>\n",
       "      <td>No</td>\n",
       "      <td>No</td>\n",
       "      <td>Yes</td>\n",
       "      <td>No</td>\n",
       "      <td>Month-to-month</td>\n",
       "      <td>Yes</td>\n",
       "      <td>Credit card (automatic)</td>\n",
       "      <td>89.10</td>\n",
       "      <td>1949.4</td>\n",
       "      <td>No</td>\n",
       "    </tr>\n",
       "    <tr>\n",
       "      <th>7</th>\n",
       "      <td>6713-OKOMC</td>\n",
       "      <td>Female</td>\n",
       "      <td>0</td>\n",
       "      <td>No</td>\n",
       "      <td>No</td>\n",
       "      <td>10</td>\n",
       "      <td>No</td>\n",
       "      <td>No phone service</td>\n",
       "      <td>DSL</td>\n",
       "      <td>Yes</td>\n",
       "      <td>...</td>\n",
       "      <td>No</td>\n",
       "      <td>No</td>\n",
       "      <td>No</td>\n",
       "      <td>No</td>\n",
       "      <td>Month-to-month</td>\n",
       "      <td>No</td>\n",
       "      <td>Mailed check</td>\n",
       "      <td>29.75</td>\n",
       "      <td>301.9</td>\n",
       "      <td>No</td>\n",
       "    </tr>\n",
       "    <tr>\n",
       "      <th>8</th>\n",
       "      <td>7892-POOKP</td>\n",
       "      <td>Female</td>\n",
       "      <td>0</td>\n",
       "      <td>Yes</td>\n",
       "      <td>No</td>\n",
       "      <td>28</td>\n",
       "      <td>Yes</td>\n",
       "      <td>Yes</td>\n",
       "      <td>Fiber optic</td>\n",
       "      <td>No</td>\n",
       "      <td>...</td>\n",
       "      <td>Yes</td>\n",
       "      <td>Yes</td>\n",
       "      <td>Yes</td>\n",
       "      <td>Yes</td>\n",
       "      <td>Month-to-month</td>\n",
       "      <td>Yes</td>\n",
       "      <td>Electronic check</td>\n",
       "      <td>104.80</td>\n",
       "      <td>3046.05</td>\n",
       "      <td>Yes</td>\n",
       "    </tr>\n",
       "    <tr>\n",
       "      <th>9</th>\n",
       "      <td>6388-TABGU</td>\n",
       "      <td>Male</td>\n",
       "      <td>0</td>\n",
       "      <td>No</td>\n",
       "      <td>Yes</td>\n",
       "      <td>62</td>\n",
       "      <td>Yes</td>\n",
       "      <td>No</td>\n",
       "      <td>DSL</td>\n",
       "      <td>Yes</td>\n",
       "      <td>...</td>\n",
       "      <td>No</td>\n",
       "      <td>No</td>\n",
       "      <td>No</td>\n",
       "      <td>No</td>\n",
       "      <td>One year</td>\n",
       "      <td>No</td>\n",
       "      <td>Bank transfer (automatic)</td>\n",
       "      <td>56.15</td>\n",
       "      <td>3487.95</td>\n",
       "      <td>No</td>\n",
       "    </tr>\n",
       "    <tr>\n",
       "      <th>10</th>\n",
       "      <td>9763-GRSKD</td>\n",
       "      <td>Male</td>\n",
       "      <td>0</td>\n",
       "      <td>Yes</td>\n",
       "      <td>Yes</td>\n",
       "      <td>13</td>\n",
       "      <td>Yes</td>\n",
       "      <td>No</td>\n",
       "      <td>DSL</td>\n",
       "      <td>Yes</td>\n",
       "      <td>...</td>\n",
       "      <td>No</td>\n",
       "      <td>No</td>\n",
       "      <td>No</td>\n",
       "      <td>No</td>\n",
       "      <td>Month-to-month</td>\n",
       "      <td>Yes</td>\n",
       "      <td>Mailed check</td>\n",
       "      <td>49.95</td>\n",
       "      <td>587.45</td>\n",
       "      <td>No</td>\n",
       "    </tr>\n",
       "    <tr>\n",
       "      <th>11</th>\n",
       "      <td>7469-LKBCI</td>\n",
       "      <td>Male</td>\n",
       "      <td>0</td>\n",
       "      <td>No</td>\n",
       "      <td>No</td>\n",
       "      <td>16</td>\n",
       "      <td>Yes</td>\n",
       "      <td>No</td>\n",
       "      <td>No</td>\n",
       "      <td>No internet service</td>\n",
       "      <td>...</td>\n",
       "      <td>No internet service</td>\n",
       "      <td>No internet service</td>\n",
       "      <td>No internet service</td>\n",
       "      <td>No internet service</td>\n",
       "      <td>Two year</td>\n",
       "      <td>No</td>\n",
       "      <td>Credit card (automatic)</td>\n",
       "      <td>18.95</td>\n",
       "      <td>326.8</td>\n",
       "      <td>No</td>\n",
       "    </tr>\n",
       "    <tr>\n",
       "      <th>12</th>\n",
       "      <td>8091-TTVAX</td>\n",
       "      <td>Male</td>\n",
       "      <td>0</td>\n",
       "      <td>Yes</td>\n",
       "      <td>No</td>\n",
       "      <td>58</td>\n",
       "      <td>Yes</td>\n",
       "      <td>Yes</td>\n",
       "      <td>Fiber optic</td>\n",
       "      <td>No</td>\n",
       "      <td>...</td>\n",
       "      <td>Yes</td>\n",
       "      <td>No</td>\n",
       "      <td>Yes</td>\n",
       "      <td>Yes</td>\n",
       "      <td>One year</td>\n",
       "      <td>No</td>\n",
       "      <td>Credit card (automatic)</td>\n",
       "      <td>100.35</td>\n",
       "      <td>5681.1</td>\n",
       "      <td>No</td>\n",
       "    </tr>\n",
       "    <tr>\n",
       "      <th>13</th>\n",
       "      <td>0280-XJGEX</td>\n",
       "      <td>Male</td>\n",
       "      <td>0</td>\n",
       "      <td>No</td>\n",
       "      <td>No</td>\n",
       "      <td>49</td>\n",
       "      <td>Yes</td>\n",
       "      <td>Yes</td>\n",
       "      <td>Fiber optic</td>\n",
       "      <td>No</td>\n",
       "      <td>...</td>\n",
       "      <td>Yes</td>\n",
       "      <td>No</td>\n",
       "      <td>Yes</td>\n",
       "      <td>Yes</td>\n",
       "      <td>Month-to-month</td>\n",
       "      <td>Yes</td>\n",
       "      <td>Bank transfer (automatic)</td>\n",
       "      <td>103.70</td>\n",
       "      <td>5036.3</td>\n",
       "      <td>Yes</td>\n",
       "    </tr>\n",
       "    <tr>\n",
       "      <th>14</th>\n",
       "      <td>5129-JLPIS</td>\n",
       "      <td>Male</td>\n",
       "      <td>0</td>\n",
       "      <td>No</td>\n",
       "      <td>No</td>\n",
       "      <td>25</td>\n",
       "      <td>Yes</td>\n",
       "      <td>No</td>\n",
       "      <td>Fiber optic</td>\n",
       "      <td>Yes</td>\n",
       "      <td>...</td>\n",
       "      <td>Yes</td>\n",
       "      <td>Yes</td>\n",
       "      <td>Yes</td>\n",
       "      <td>Yes</td>\n",
       "      <td>Month-to-month</td>\n",
       "      <td>Yes</td>\n",
       "      <td>Electronic check</td>\n",
       "      <td>105.50</td>\n",
       "      <td>2686.05</td>\n",
       "      <td>No</td>\n",
       "    </tr>\n",
       "  </tbody>\n",
       "</table>\n",
       "<p>15 rows × 21 columns</p>\n",
       "</div>"
      ],
      "text/plain": [
       "    customerID  gender  SeniorCitizen Partner Dependents  tenure PhoneService  \\\n",
       "0   7590-VHVEG  Female              0     Yes         No       1           No   \n",
       "1   5575-GNVDE    Male              0      No         No      34          Yes   \n",
       "2   3668-QPYBK    Male              0      No         No       2          Yes   \n",
       "3   7795-CFOCW    Male              0      No         No      45           No   \n",
       "4   9237-HQITU  Female              0      No         No       2          Yes   \n",
       "5   9305-CDSKC  Female              0      No         No       8          Yes   \n",
       "6   1452-KIOVK    Male              0      No        Yes      22          Yes   \n",
       "7   6713-OKOMC  Female              0      No         No      10           No   \n",
       "8   7892-POOKP  Female              0     Yes         No      28          Yes   \n",
       "9   6388-TABGU    Male              0      No        Yes      62          Yes   \n",
       "10  9763-GRSKD    Male              0     Yes        Yes      13          Yes   \n",
       "11  7469-LKBCI    Male              0      No         No      16          Yes   \n",
       "12  8091-TTVAX    Male              0     Yes         No      58          Yes   \n",
       "13  0280-XJGEX    Male              0      No         No      49          Yes   \n",
       "14  5129-JLPIS    Male              0      No         No      25          Yes   \n",
       "\n",
       "       MultipleLines InternetService       OnlineSecurity  ...  \\\n",
       "0   No phone service             DSL                   No  ...   \n",
       "1                 No             DSL                  Yes  ...   \n",
       "2                 No             DSL                  Yes  ...   \n",
       "3   No phone service             DSL                  Yes  ...   \n",
       "4                 No     Fiber optic                   No  ...   \n",
       "5                Yes     Fiber optic                   No  ...   \n",
       "6                Yes     Fiber optic                   No  ...   \n",
       "7   No phone service             DSL                  Yes  ...   \n",
       "8                Yes     Fiber optic                   No  ...   \n",
       "9                 No             DSL                  Yes  ...   \n",
       "10                No             DSL                  Yes  ...   \n",
       "11                No              No  No internet service  ...   \n",
       "12               Yes     Fiber optic                   No  ...   \n",
       "13               Yes     Fiber optic                   No  ...   \n",
       "14                No     Fiber optic                  Yes  ...   \n",
       "\n",
       "       DeviceProtection          TechSupport          StreamingTV  \\\n",
       "0                    No                   No                   No   \n",
       "1                   Yes                   No                   No   \n",
       "2                    No                   No                   No   \n",
       "3                   Yes                  Yes                   No   \n",
       "4                    No                   No                   No   \n",
       "5                   Yes                   No                  Yes   \n",
       "6                    No                   No                  Yes   \n",
       "7                    No                   No                   No   \n",
       "8                   Yes                  Yes                  Yes   \n",
       "9                    No                   No                   No   \n",
       "10                   No                   No                   No   \n",
       "11  No internet service  No internet service  No internet service   \n",
       "12                  Yes                   No                  Yes   \n",
       "13                  Yes                   No                  Yes   \n",
       "14                  Yes                  Yes                  Yes   \n",
       "\n",
       "        StreamingMovies        Contract PaperlessBilling  \\\n",
       "0                    No  Month-to-month              Yes   \n",
       "1                    No        One year               No   \n",
       "2                    No  Month-to-month              Yes   \n",
       "3                    No        One year               No   \n",
       "4                    No  Month-to-month              Yes   \n",
       "5                   Yes  Month-to-month              Yes   \n",
       "6                    No  Month-to-month              Yes   \n",
       "7                    No  Month-to-month               No   \n",
       "8                   Yes  Month-to-month              Yes   \n",
       "9                    No        One year               No   \n",
       "10                   No  Month-to-month              Yes   \n",
       "11  No internet service        Two year               No   \n",
       "12                  Yes        One year               No   \n",
       "13                  Yes  Month-to-month              Yes   \n",
       "14                  Yes  Month-to-month              Yes   \n",
       "\n",
       "                PaymentMethod MonthlyCharges  TotalCharges Churn  \n",
       "0            Electronic check          29.85         29.85    No  \n",
       "1                Mailed check          56.95        1889.5    No  \n",
       "2                Mailed check          53.85        108.15   Yes  \n",
       "3   Bank transfer (automatic)          42.30       1840.75    No  \n",
       "4            Electronic check          70.70        151.65   Yes  \n",
       "5            Electronic check          99.65         820.5   Yes  \n",
       "6     Credit card (automatic)          89.10        1949.4    No  \n",
       "7                Mailed check          29.75         301.9    No  \n",
       "8            Electronic check         104.80       3046.05   Yes  \n",
       "9   Bank transfer (automatic)          56.15       3487.95    No  \n",
       "10               Mailed check          49.95        587.45    No  \n",
       "11    Credit card (automatic)          18.95         326.8    No  \n",
       "12    Credit card (automatic)         100.35        5681.1    No  \n",
       "13  Bank transfer (automatic)         103.70        5036.3   Yes  \n",
       "14           Electronic check         105.50       2686.05    No  \n",
       "\n",
       "[15 rows x 21 columns]"
      ]
     },
     "execution_count": 9,
     "metadata": {},
     "output_type": "execute_result"
    }
   ],
   "source": [
    "df = pd.read_csv(\"../../datasets/churn.csv\")\n",
    "df.head(15)"
   ]
  },
  {
   "cell_type": "markdown",
   "id": "3f5bfdfe",
   "metadata": {},
   "source": [
    "I have loaded the dataset and printed top 15 from the head of the dataset."
   ]
  },
  {
   "cell_type": "code",
   "execution_count": 8,
   "id": "dd8237e9",
   "metadata": {},
   "outputs": [
    {
     "data": {
      "text/plain": [
       "customerID           object\n",
       "gender               object\n",
       "SeniorCitizen         int64\n",
       "Partner              object\n",
       "Dependents           object\n",
       "tenure                int64\n",
       "PhoneService         object\n",
       "MultipleLines        object\n",
       "InternetService      object\n",
       "OnlineSecurity       object\n",
       "OnlineBackup         object\n",
       "DeviceProtection     object\n",
       "TechSupport          object\n",
       "StreamingTV          object\n",
       "StreamingMovies      object\n",
       "Contract             object\n",
       "PaperlessBilling     object\n",
       "PaymentMethod        object\n",
       "MonthlyCharges      float64\n",
       "TotalCharges         object\n",
       "Churn                object\n",
       "dtype: object"
      ]
     },
     "execution_count": 8,
     "metadata": {},
     "output_type": "execute_result"
    }
   ],
   "source": [
    "df.dtypes"
   ]
  },
  {
   "cell_type": "markdown",
   "id": "10bbfef3",
   "metadata": {},
   "source": [
    "Using the baove code I have printed a series with the data type of each coloumn. "
   ]
  },
  {
   "cell_type": "markdown",
   "id": "8e01b9ed",
   "metadata": {},
   "source": [
    "# Splitting Datasets into train and test"
   ]
  },
  {
   "cell_type": "code",
   "execution_count": 9,
   "id": "cf87e49e",
   "metadata": {},
   "outputs": [
    {
     "name": "stdout",
     "output_type": "stream",
     "text": [
      "df_train size :  (5282, 21)\n",
      "df_test size :  (1761, 21)\n"
     ]
    }
   ],
   "source": [
    "df_train,df_test = sklearn.model_selection.train_test_split(df)\n",
    "\n",
    "print(\"df_train size : \", df_train.shape) #size of train set\n",
    "print(\"df_test size : \", df_test.shape) #size of test set"
   ]
  },
  {
   "cell_type": "markdown",
   "id": "f3fb5cab",
   "metadata": {},
   "source": [
    "# CHECKING FOR NULL VALUES"
   ]
  },
  {
   "cell_type": "code",
   "execution_count": 10,
   "id": "df408b1a",
   "metadata": {},
   "outputs": [
    {
     "data": {
      "text/html": [
       "<div>\n",
       "<style scoped>\n",
       "    .dataframe tbody tr th:only-of-type {\n",
       "        vertical-align: middle;\n",
       "    }\n",
       "\n",
       "    .dataframe tbody tr th {\n",
       "        vertical-align: top;\n",
       "    }\n",
       "\n",
       "    .dataframe thead th {\n",
       "        text-align: right;\n",
       "    }\n",
       "</style>\n",
       "<table border=\"1\" class=\"dataframe\">\n",
       "  <thead>\n",
       "    <tr style=\"text-align: right;\">\n",
       "      <th></th>\n",
       "      <th>customerID</th>\n",
       "      <th>gender</th>\n",
       "      <th>SeniorCitizen</th>\n",
       "      <th>Partner</th>\n",
       "      <th>Dependents</th>\n",
       "      <th>tenure</th>\n",
       "      <th>PhoneService</th>\n",
       "      <th>MultipleLines</th>\n",
       "      <th>InternetService</th>\n",
       "      <th>OnlineSecurity</th>\n",
       "      <th>...</th>\n",
       "      <th>DeviceProtection</th>\n",
       "      <th>TechSupport</th>\n",
       "      <th>StreamingTV</th>\n",
       "      <th>StreamingMovies</th>\n",
       "      <th>Contract</th>\n",
       "      <th>PaperlessBilling</th>\n",
       "      <th>PaymentMethod</th>\n",
       "      <th>MonthlyCharges</th>\n",
       "      <th>TotalCharges</th>\n",
       "      <th>Churn</th>\n",
       "    </tr>\n",
       "  </thead>\n",
       "  <tbody>\n",
       "    <tr>\n",
       "      <th>2582</th>\n",
       "      <td>False</td>\n",
       "      <td>False</td>\n",
       "      <td>False</td>\n",
       "      <td>False</td>\n",
       "      <td>False</td>\n",
       "      <td>False</td>\n",
       "      <td>False</td>\n",
       "      <td>False</td>\n",
       "      <td>False</td>\n",
       "      <td>False</td>\n",
       "      <td>...</td>\n",
       "      <td>False</td>\n",
       "      <td>False</td>\n",
       "      <td>False</td>\n",
       "      <td>False</td>\n",
       "      <td>False</td>\n",
       "      <td>False</td>\n",
       "      <td>False</td>\n",
       "      <td>False</td>\n",
       "      <td>False</td>\n",
       "      <td>False</td>\n",
       "    </tr>\n",
       "    <tr>\n",
       "      <th>2881</th>\n",
       "      <td>False</td>\n",
       "      <td>False</td>\n",
       "      <td>False</td>\n",
       "      <td>False</td>\n",
       "      <td>False</td>\n",
       "      <td>False</td>\n",
       "      <td>False</td>\n",
       "      <td>False</td>\n",
       "      <td>False</td>\n",
       "      <td>False</td>\n",
       "      <td>...</td>\n",
       "      <td>False</td>\n",
       "      <td>False</td>\n",
       "      <td>False</td>\n",
       "      <td>False</td>\n",
       "      <td>False</td>\n",
       "      <td>False</td>\n",
       "      <td>False</td>\n",
       "      <td>False</td>\n",
       "      <td>False</td>\n",
       "      <td>False</td>\n",
       "    </tr>\n",
       "    <tr>\n",
       "      <th>4393</th>\n",
       "      <td>False</td>\n",
       "      <td>False</td>\n",
       "      <td>False</td>\n",
       "      <td>False</td>\n",
       "      <td>False</td>\n",
       "      <td>False</td>\n",
       "      <td>False</td>\n",
       "      <td>False</td>\n",
       "      <td>False</td>\n",
       "      <td>False</td>\n",
       "      <td>...</td>\n",
       "      <td>False</td>\n",
       "      <td>False</td>\n",
       "      <td>False</td>\n",
       "      <td>False</td>\n",
       "      <td>False</td>\n",
       "      <td>False</td>\n",
       "      <td>False</td>\n",
       "      <td>False</td>\n",
       "      <td>False</td>\n",
       "      <td>False</td>\n",
       "    </tr>\n",
       "    <tr>\n",
       "      <th>4612</th>\n",
       "      <td>False</td>\n",
       "      <td>False</td>\n",
       "      <td>False</td>\n",
       "      <td>False</td>\n",
       "      <td>False</td>\n",
       "      <td>False</td>\n",
       "      <td>False</td>\n",
       "      <td>False</td>\n",
       "      <td>False</td>\n",
       "      <td>False</td>\n",
       "      <td>...</td>\n",
       "      <td>False</td>\n",
       "      <td>False</td>\n",
       "      <td>False</td>\n",
       "      <td>False</td>\n",
       "      <td>False</td>\n",
       "      <td>False</td>\n",
       "      <td>False</td>\n",
       "      <td>False</td>\n",
       "      <td>False</td>\n",
       "      <td>False</td>\n",
       "    </tr>\n",
       "    <tr>\n",
       "      <th>1692</th>\n",
       "      <td>False</td>\n",
       "      <td>False</td>\n",
       "      <td>False</td>\n",
       "      <td>False</td>\n",
       "      <td>False</td>\n",
       "      <td>False</td>\n",
       "      <td>False</td>\n",
       "      <td>False</td>\n",
       "      <td>False</td>\n",
       "      <td>False</td>\n",
       "      <td>...</td>\n",
       "      <td>False</td>\n",
       "      <td>False</td>\n",
       "      <td>False</td>\n",
       "      <td>False</td>\n",
       "      <td>False</td>\n",
       "      <td>False</td>\n",
       "      <td>False</td>\n",
       "      <td>False</td>\n",
       "      <td>False</td>\n",
       "      <td>False</td>\n",
       "    </tr>\n",
       "    <tr>\n",
       "      <th>...</th>\n",
       "      <td>...</td>\n",
       "      <td>...</td>\n",
       "      <td>...</td>\n",
       "      <td>...</td>\n",
       "      <td>...</td>\n",
       "      <td>...</td>\n",
       "      <td>...</td>\n",
       "      <td>...</td>\n",
       "      <td>...</td>\n",
       "      <td>...</td>\n",
       "      <td>...</td>\n",
       "      <td>...</td>\n",
       "      <td>...</td>\n",
       "      <td>...</td>\n",
       "      <td>...</td>\n",
       "      <td>...</td>\n",
       "      <td>...</td>\n",
       "      <td>...</td>\n",
       "      <td>...</td>\n",
       "      <td>...</td>\n",
       "      <td>...</td>\n",
       "    </tr>\n",
       "    <tr>\n",
       "      <th>5664</th>\n",
       "      <td>False</td>\n",
       "      <td>False</td>\n",
       "      <td>False</td>\n",
       "      <td>False</td>\n",
       "      <td>False</td>\n",
       "      <td>False</td>\n",
       "      <td>False</td>\n",
       "      <td>False</td>\n",
       "      <td>False</td>\n",
       "      <td>False</td>\n",
       "      <td>...</td>\n",
       "      <td>False</td>\n",
       "      <td>False</td>\n",
       "      <td>False</td>\n",
       "      <td>False</td>\n",
       "      <td>False</td>\n",
       "      <td>False</td>\n",
       "      <td>False</td>\n",
       "      <td>False</td>\n",
       "      <td>False</td>\n",
       "      <td>False</td>\n",
       "    </tr>\n",
       "    <tr>\n",
       "      <th>6009</th>\n",
       "      <td>False</td>\n",
       "      <td>False</td>\n",
       "      <td>False</td>\n",
       "      <td>False</td>\n",
       "      <td>False</td>\n",
       "      <td>False</td>\n",
       "      <td>False</td>\n",
       "      <td>False</td>\n",
       "      <td>False</td>\n",
       "      <td>False</td>\n",
       "      <td>...</td>\n",
       "      <td>False</td>\n",
       "      <td>False</td>\n",
       "      <td>False</td>\n",
       "      <td>False</td>\n",
       "      <td>False</td>\n",
       "      <td>False</td>\n",
       "      <td>False</td>\n",
       "      <td>False</td>\n",
       "      <td>False</td>\n",
       "      <td>False</td>\n",
       "    </tr>\n",
       "    <tr>\n",
       "      <th>1296</th>\n",
       "      <td>False</td>\n",
       "      <td>False</td>\n",
       "      <td>False</td>\n",
       "      <td>False</td>\n",
       "      <td>False</td>\n",
       "      <td>False</td>\n",
       "      <td>False</td>\n",
       "      <td>False</td>\n",
       "      <td>False</td>\n",
       "      <td>False</td>\n",
       "      <td>...</td>\n",
       "      <td>False</td>\n",
       "      <td>False</td>\n",
       "      <td>False</td>\n",
       "      <td>False</td>\n",
       "      <td>False</td>\n",
       "      <td>False</td>\n",
       "      <td>False</td>\n",
       "      <td>False</td>\n",
       "      <td>False</td>\n",
       "      <td>False</td>\n",
       "    </tr>\n",
       "    <tr>\n",
       "      <th>6382</th>\n",
       "      <td>False</td>\n",
       "      <td>False</td>\n",
       "      <td>False</td>\n",
       "      <td>False</td>\n",
       "      <td>False</td>\n",
       "      <td>False</td>\n",
       "      <td>False</td>\n",
       "      <td>False</td>\n",
       "      <td>False</td>\n",
       "      <td>False</td>\n",
       "      <td>...</td>\n",
       "      <td>False</td>\n",
       "      <td>False</td>\n",
       "      <td>False</td>\n",
       "      <td>False</td>\n",
       "      <td>False</td>\n",
       "      <td>False</td>\n",
       "      <td>False</td>\n",
       "      <td>False</td>\n",
       "      <td>False</td>\n",
       "      <td>False</td>\n",
       "    </tr>\n",
       "    <tr>\n",
       "      <th>3853</th>\n",
       "      <td>False</td>\n",
       "      <td>False</td>\n",
       "      <td>False</td>\n",
       "      <td>False</td>\n",
       "      <td>False</td>\n",
       "      <td>False</td>\n",
       "      <td>False</td>\n",
       "      <td>False</td>\n",
       "      <td>False</td>\n",
       "      <td>False</td>\n",
       "      <td>...</td>\n",
       "      <td>False</td>\n",
       "      <td>False</td>\n",
       "      <td>False</td>\n",
       "      <td>False</td>\n",
       "      <td>False</td>\n",
       "      <td>False</td>\n",
       "      <td>False</td>\n",
       "      <td>False</td>\n",
       "      <td>False</td>\n",
       "      <td>False</td>\n",
       "    </tr>\n",
       "  </tbody>\n",
       "</table>\n",
       "<p>5282 rows × 21 columns</p>\n",
       "</div>"
      ],
      "text/plain": [
       "      customerID  gender  SeniorCitizen  Partner  Dependents  tenure  \\\n",
       "2582       False   False          False    False       False   False   \n",
       "2881       False   False          False    False       False   False   \n",
       "4393       False   False          False    False       False   False   \n",
       "4612       False   False          False    False       False   False   \n",
       "1692       False   False          False    False       False   False   \n",
       "...          ...     ...            ...      ...         ...     ...   \n",
       "5664       False   False          False    False       False   False   \n",
       "6009       False   False          False    False       False   False   \n",
       "1296       False   False          False    False       False   False   \n",
       "6382       False   False          False    False       False   False   \n",
       "3853       False   False          False    False       False   False   \n",
       "\n",
       "      PhoneService  MultipleLines  InternetService  OnlineSecurity  ...  \\\n",
       "2582         False          False            False           False  ...   \n",
       "2881         False          False            False           False  ...   \n",
       "4393         False          False            False           False  ...   \n",
       "4612         False          False            False           False  ...   \n",
       "1692         False          False            False           False  ...   \n",
       "...            ...            ...              ...             ...  ...   \n",
       "5664         False          False            False           False  ...   \n",
       "6009         False          False            False           False  ...   \n",
       "1296         False          False            False           False  ...   \n",
       "6382         False          False            False           False  ...   \n",
       "3853         False          False            False           False  ...   \n",
       "\n",
       "      DeviceProtection  TechSupport  StreamingTV  StreamingMovies  Contract  \\\n",
       "2582             False        False        False            False     False   \n",
       "2881             False        False        False            False     False   \n",
       "4393             False        False        False            False     False   \n",
       "4612             False        False        False            False     False   \n",
       "1692             False        False        False            False     False   \n",
       "...                ...          ...          ...              ...       ...   \n",
       "5664             False        False        False            False     False   \n",
       "6009             False        False        False            False     False   \n",
       "1296             False        False        False            False     False   \n",
       "6382             False        False        False            False     False   \n",
       "3853             False        False        False            False     False   \n",
       "\n",
       "      PaperlessBilling  PaymentMethod  MonthlyCharges  TotalCharges  Churn  \n",
       "2582             False          False           False         False  False  \n",
       "2881             False          False           False         False  False  \n",
       "4393             False          False           False         False  False  \n",
       "4612             False          False           False         False  False  \n",
       "1692             False          False           False         False  False  \n",
       "...                ...            ...             ...           ...    ...  \n",
       "5664             False          False           False         False  False  \n",
       "6009             False          False           False         False  False  \n",
       "1296             False          False           False         False  False  \n",
       "6382             False          False           False         False  False  \n",
       "3853             False          False           False         False  False  \n",
       "\n",
       "[5282 rows x 21 columns]"
      ]
     },
     "execution_count": 10,
     "metadata": {},
     "output_type": "execute_result"
    }
   ],
   "source": [
    "df_train.isnull()"
   ]
  },
  {
   "cell_type": "markdown",
   "id": "e0c3966a",
   "metadata": {},
   "source": [
    "Here we have checked whether there is Null values by determining if there is \"True\" value among the data."
   ]
  },
  {
   "cell_type": "code",
   "execution_count": 11,
   "id": "fd56dc1c",
   "metadata": {},
   "outputs": [
    {
     "data": {
      "text/plain": [
       "customerID          0\n",
       "gender              0\n",
       "SeniorCitizen       0\n",
       "Partner             0\n",
       "Dependents          0\n",
       "tenure              0\n",
       "PhoneService        0\n",
       "MultipleLines       0\n",
       "InternetService     0\n",
       "OnlineSecurity      0\n",
       "OnlineBackup        0\n",
       "DeviceProtection    0\n",
       "TechSupport         0\n",
       "StreamingTV         0\n",
       "StreamingMovies     0\n",
       "Contract            0\n",
       "PaperlessBilling    0\n",
       "PaymentMethod       0\n",
       "MonthlyCharges      0\n",
       "TotalCharges        0\n",
       "Churn               0\n",
       "dtype: int64"
      ]
     },
     "execution_count": 11,
     "metadata": {},
     "output_type": "execute_result"
    }
   ],
   "source": [
    "df_train.isnull().sum()"
   ]
  },
  {
   "cell_type": "markdown",
   "id": "f4c6a915",
   "metadata": {},
   "source": [
    "From both the code above, we can conclude that since there is no \"true\" value in the former table and no \"1\" in the latter, there are no NULL values in the dataset."
   ]
  },
  {
   "cell_type": "markdown",
   "id": "6b9914c4",
   "metadata": {},
   "source": [
    "# Visualization of dataset"
   ]
  },
  {
   "cell_type": "markdown",
   "id": "efb6b822",
   "metadata": {},
   "source": [
    "## VIOLIN PLOT"
   ]
  },
  {
   "cell_type": "code",
   "execution_count": 12,
   "id": "65f5d46e",
   "metadata": {},
   "outputs": [
    {
     "data": {
      "text/plain": [
       "<AxesSubplot:xlabel='customerID', ylabel='tenure'>"
      ]
     },
     "execution_count": 12,
     "metadata": {},
     "output_type": "execute_result"
    },
    {
     "data": {
      "image/png": "[encoded data removed]",
      "text/plain": [
       "<Figure size 432x288 with 1 Axes>"
      ]
     },
     "metadata": {},
     "output_type": "display_data"
    }
   ],
   "source": [
    "sns.violinplot(\n",
    "    x='customerID',\n",
    "    y='tenure',\n",
    "    data=df.nlargest(3, 'tenure')\n",
    ")"
   ]
  },
  {
   "cell_type": "markdown",
   "id": "8e667a5f",
   "metadata": {},
   "source": [
    "Here I have used a violine plot to compare which customers have highest tenure and from the grpah it can be seen that three cuustomers with ID '5248-YGIJN','6234-RAAPL','5954-BDFSG'have the highest tenure with value 72"
   ]
  },
  {
   "cell_type": "markdown",
   "id": "febd9961",
   "metadata": {},
   "source": [
    "## COUNTPLOT"
   ]
  },
  {
   "cell_type": "code",
   "execution_count": 12,
   "id": "760ea274",
   "metadata": {},
   "outputs": [
    {
     "name": "stderr",
     "output_type": "stream",
     "text": [
      "/usr/local/lib/python3.8/dist-packages/seaborn/_decorators.py:36: FutureWarning: Pass the following variable as a keyword arg: x. From version 0.12, the only valid positional argument will be `data`, and passing other arguments without an explicit keyword will result in an error or misinterpretation.\n",
      "  warnings.warn(\n"
     ]
    },
    {
     "data": {
      "text/plain": [
       "<AxesSubplot:xlabel='Churn', ylabel='count'>"
      ]
     },
     "execution_count": 12,
     "metadata": {},
     "output_type": "execute_result"
    },
    {
     "data": {
      "image/png": "[encoded data removed]",
      "text/plain": [
       "<Figure size 432x288 with 1 Axes>"
      ]
     },
     "metadata": {},
     "output_type": "display_data"
    }
   ],
   "source": [
    "sns.countplot(df['Churn'])"
   ]
  },
  {
   "cell_type": "markdown",
   "id": "ca6dc698",
   "metadata": {},
   "source": [
    "It can be seen that the number of customers who will not churn is more than that of customers who will churn"
   ]
  },
  {
   "cell_type": "markdown",
   "id": "74104b96",
   "metadata": {},
   "source": [
    "# DISPLOT"
   ]
  },
  {
   "cell_type": "code",
   "execution_count": 33,
   "id": "beac5d57",
   "metadata": {},
   "outputs": [
    {
     "data": {
      "text/plain": [
       "<seaborn.axisgrid.FacetGrid at 0x7f8d70c66220>"
      ]
     },
     "execution_count": 33,
     "metadata": {},
     "output_type": "execute_result"
    },
    {
     "data": {
      "image/png": "[encoded data removed]",
      "text/plain": [
       "<Figure size 360x360 with 1 Axes>"
      ]
     },
     "metadata": {},
     "output_type": "display_data"
    }
   ],
   "source": [
    "sns.displot(df[\"MonthlyCharges\"])"
   ]
  },
  {
   "cell_type": "markdown",
   "id": "30124f5d",
   "metadata": {},
   "source": [
    "IT can be seen that approximately 20 is the most common monthly charges compared to others."
   ]
  },
  {
   "cell_type": "markdown",
   "id": "3a9451fd",
   "metadata": {},
   "source": [
    "Now lets check which customer have the highest monthly charges."
   ]
  },
  {
   "cell_type": "markdown",
   "id": "da79671a",
   "metadata": {},
   "source": [
    "\n"
   ]
  },
  {
   "cell_type": "code",
   "execution_count": 34,
   "id": "5476edfb",
   "metadata": {},
   "outputs": [
    {
     "data": {
      "text/plain": [
       "4586    7569-NMZYQ\n",
       "Name: customerID, dtype: object"
      ]
     },
     "execution_count": 34,
     "metadata": {},
     "output_type": "execute_result"
    }
   ],
   "source": [
    "df[\"customerID\"][df[\"MonthlyCharges\"]== max(df[\"MonthlyCharges\"])]"
   ]
  },
  {
   "cell_type": "markdown",
   "id": "efc35d4d",
   "metadata": {},
   "source": [
    "customer with ID 7569-NMZYQ has the highest monthly charges with 4586"
   ]
  },
  {
   "cell_type": "markdown",
   "id": "5563e7a2",
   "metadata": {},
   "source": [
    "# Data Preprocessing and Feature Engineering"
   ]
  },
  {
   "cell_type": "markdown",
   "id": "58350c3b",
   "metadata": {},
   "source": [
    "## Seperating target and feature vector"
   ]
  },
  {
   "cell_type": "code",
   "execution_count": 13,
   "id": "c2a83d38",
   "metadata": {},
   "outputs": [
    {
     "name": "stdout",
     "output_type": "stream",
     "text": [
      "x_test size :  (1761, 20)\n",
      "x_train size :  (5282, 20)\n",
      "y_train size :  (5282,)\n",
      "y_test size :  (1761,)\n"
     ]
    }
   ],
   "source": [
    "x_train = df_train.drop([\"Churn\"],axis = 1)\n",
    "y_train = df_train[\"Churn\"]\n",
    "\n",
    "x_test = df_test.drop([\"Churn\"], axis = 1)\n",
    "y_test = df_test[\"Churn\"]\n",
    "\n",
    "print(\"x_test size : \",x_test.shape) \n",
    "print(\"x_train size : \",x_train.shape)\n",
    "print(\"y_train size : \",y_train.shape)\n",
    "print(\"y_test size : \",y_test.shape)"
   ]
  },
  {
   "cell_type": "markdown",
   "id": "679dc041",
   "metadata": {},
   "source": [
    "## Encoding dataset"
   ]
  },
  {
   "cell_type": "code",
   "execution_count": 14,
   "id": "796625bd",
   "metadata": {},
   "outputs": [
    {
     "name": "stdout",
     "output_type": "stream",
     "text": [
      "x train :  (5282, 11851)\n",
      "x test :  (1761, 11851)\n"
     ]
    }
   ],
   "source": [
    "enc = sklearn.preprocessing.OneHotEncoder(handle_unknown = \"ignore\")\n",
    "enc.fit(x_train)\n",
    "\n",
    "x_train = enc.transform(x_train)\n",
    "x_test = enc.transform(x_test)\n",
    "\n",
    "\n",
    "print(\"x train : \",x_train.shape)\n",
    "print(\"x test : \",x_test.shape)"
   ]
  },
  {
   "cell_type": "markdown",
   "id": "815726a7",
   "metadata": {},
   "source": [
    "Since the dataset have sequence of characters like letters and numbers, I have encoded the dataset to a specified format for efficient transmission. And I have used OneHot Encoder for that purpose."
   ]
  },
  {
   "cell_type": "markdown",
   "id": "bd417f15",
   "metadata": {},
   "source": [
    "## Standardization of dataset"
   ]
  },
  {
   "cell_type": "code",
   "execution_count": 15,
   "id": "8cec3402",
   "metadata": {},
   "outputs": [
    {
     "name": "stdout",
     "output_type": "stream",
     "text": [
      "x train :  (5282, 11851)\n",
      "x test :  (1761, 11851)\n"
     ]
    }
   ],
   "source": [
    "stand = sklearn.preprocessing.StandardScaler(with_mean = False)\n",
    "stand.fit(x_train)\n",
    "\n",
    "x_train = stand.transform(x_train)\n",
    "x_test = stand.transform(x_test)\n",
    "\n",
    "print(\"x train : \",x_train.shape)\n",
    "print(\"x test : \",x_test.shape)"
   ]
  },
  {
   "cell_type": "markdown",
   "id": "1822ed7d",
   "metadata": {},
   "source": [
    "Here I have kept with_mean as False becuase I dont want to center the data before scaling as it can be too large to fit in memory"
   ]
  },
  {
   "cell_type": "markdown",
   "id": "b5c18016",
   "metadata": {},
   "source": [
    "Here I have done Standardization of dataset so that the mean of observed value is 0 and the standard deviation is 1."
   ]
  },
  {
   "cell_type": "markdown",
   "id": "f0a343e0",
   "metadata": {},
   "source": [
    "## Dimensionality reduction"
   ]
  },
  {
   "cell_type": "markdown",
   "id": "1d23d5c4",
   "metadata": {},
   "source": [
    "Now we do dimensionality reduction to avoid of curse of dimenstioanlity because our dataset have high input variables, we will crete a PCA model to do dimenstionality reduction to reduce the number of input variables."
   ]
  },
  {
   "cell_type": "code",
   "execution_count": 16,
   "id": "696de9b6",
   "metadata": {},
   "outputs": [
    {
     "name": "stdout",
     "output_type": "stream",
     "text": [
      "x_train:  (5282, 10)\n",
      "x_test:  (1761, 10)\n"
     ]
    }
   ],
   "source": [
    "PCA = sklearn.decomposition.PCA(n_components = 10)\n",
    "PCA.fit(x_train.toarray())\n",
    "\n",
    "x_train = PCA.transform(x_train.toarray())\n",
    "\n",
    "x_test = PCA.transform(x_test.toarray())\n",
    "\n",
    "print(\"x_train: \", x_train.shape)\n",
    "print(\"x_test: \", x_test.shape)"
   ]
  },
  {
   "cell_type": "markdown",
   "id": "4bd61921",
   "metadata": {},
   "source": [
    "Here I have set n_components that is number of components to 10 because I only want 10( n_components = 10) to be kept and also n_components > 10 will have error because it must be between 0 and min(n_samples, n_features)=10 with svd_solver='full'.\n"
   ]
  },
  {
   "cell_type": "markdown",
   "id": "64d9d531",
   "metadata": {},
   "source": [
    "# Hyper Parameter Tuning and Algorithm Selection"
   ]
  },
  {
   "cell_type": "markdown",
   "id": "358c839a",
   "metadata": {},
   "source": [
    "The next step in building the pipeline is to tune the hyper paramters and do algorith selection, we will be using Grid Search to do that. We will compare Decision Tree, Logistic Regression and SVM and find the best accuracy and hyper parameter and then will use that alogrithm to build the model and do prediction"
   ]
  },
  {
   "cell_type": "markdown",
   "id": "acb44196",
   "metadata": {},
   "source": [
    "# Grid Search"
   ]
  },
  {
   "cell_type": "markdown",
   "id": "b6f9dfc8",
   "metadata": {},
   "source": [
    "## Decision Tree"
   ]
  },
  {
   "cell_type": "markdown",
   "id": "84e9929e",
   "metadata": {},
   "source": [
    "The hyper parameeters we used are max_depth and criterion. The maximum depth of the tree. If this is not specified in the Decision Tree, the nodes will be expanded until all leaf nodes are pure or until all leaf nodes contain less than min_samples_split.\n",
    "While criterion is used to measure the quality of split in decision tree. We can inpu gini for gini impurity or entropy for information gain."
   ]
  },
  {
   "cell_type": "code",
   "execution_count": 17,
   "id": "7e3fb1d3",
   "metadata": {},
   "outputs": [
    {
     "name": "stdout",
     "output_type": "stream",
     "text": [
      "Accuracy of the decision tree classifer = 0.77\n",
      "best paramters of decision tree classifier = {'criterion': 'entropy', 'max_depth': 4}\n"
     ]
    }
   ],
   "source": [
    "para_grid1 = { \n",
    "    \"criterion\" : [\"gini\", \"entropy\"],\n",
    "    \"max_depth\" : range(1,20,3),\n",
    "   \n",
    "    \n",
    "}\n",
    "model1 = sklearn.model_selection.GridSearchCV(sklearn.tree.DecisionTreeClassifier(),\n",
    "                                             para_grid1, scoring = \"accuracy\", cv = 5, n_jobs = None)\n",
    "model1.fit(x_train,y_train)\n",
    "print(\"Accuracy of the decision tree classifer = {:.2f}\".format(model1.best_score_))\n",
    "print(\"best paramters of decision tree classifier = {}\".format(model1.best_params_))"
   ]
  },
  {
   "cell_type": "markdown",
   "id": "1d2a6567",
   "metadata": {},
   "source": [
    "It can be seen that the accuracy score is 0.77 and best parameters to use should be criterion = entropy and max_depth = 4."
   ]
  },
  {
   "cell_type": "markdown",
   "id": "f346ccf9",
   "metadata": {},
   "source": [
    "## SVM"
   ]
  },
  {
   "cell_type": "markdown",
   "id": "58bb49f6",
   "metadata": {},
   "source": [
    "The hyper parameeters we used are kernel and C. Kernel is used to improve the classification accuracy and there are 4 different kernels which are Linear, Polynomial, RBF, and Sigmoid. we have used rbf and poly. while c is used to add penalty to misclassified point. If the C value is small, then essentially, the penalty for misclassified points is also small, thus resulting in a larger margin based boundary."
   ]
  },
  {
   "cell_type": "code",
   "execution_count": 18,
   "id": "35283161",
   "metadata": {},
   "outputs": [
    {
     "name": "stdout",
     "output_type": "stream",
     "text": [
      "accuracy of SVM Regressor = 0.79\n",
      "best paramters of SVM Regressor = {'C': 1, 'kernel': 'rbf'}\n"
     ]
    }
   ],
   "source": [
    "para_grid2 = { \n",
    "    \"kernel\" : [\"rbf\", \"poly\"],\n",
    "    \"C\" : [0.0001, 0.001, 0.01, 0.1, 1, 10]\n",
    "    \n",
    "}\n",
    "model2 = sklearn.model_selection.GridSearchCV(sklearn.svm.SVC(),\n",
    "                                             para_grid2, scoring = \"accuracy\", cv = 5, n_jobs = None)\n",
    "model2.fit(x_train,y_train)\n",
    "print(\"accuracy of SVM Regressor = {:.2f}\".format(model2.best_score_))\n",
    "print(\"best paramters of SVM Regressor = {}\".format(model2.best_params_))"
   ]
  },
  {
   "cell_type": "markdown",
   "id": "7a1ac453",
   "metadata": {},
   "source": [
    "It can be seen that the accuracy score is 0.79 and best parameters to use should be kernel = rbf and c = 1."
   ]
  },
  {
   "cell_type": "markdown",
   "id": "7d33892b",
   "metadata": {},
   "source": [
    "## KNN"
   ]
  },
  {
   "cell_type": "markdown",
   "id": "93917100",
   "metadata": {},
   "source": [
    "The hyper parameeters we used are n_neighbors and n_jobs. Former one is used to decide the value of k which is the most important hyper parammeter of KNN."
   ]
  },
  {
   "cell_type": "code",
   "execution_count": 20,
   "id": "6a60daa6",
   "metadata": {},
   "outputs": [
    {
     "name": "stdout",
     "output_type": "stream",
     "text": [
      "accuracy of SVM Regressor = 0.78\n",
      "best paramters of SVM Regressor = {'n_jobs': 1, 'n_neighbors': 21}\n"
     ]
    }
   ],
   "source": [
    "para_grid3 = { \n",
    "    \"n_neighbors\" : range(1,25,5),\n",
    "    \"n_jobs\" : range(1,30,2)\n",
    "    \n",
    "}\n",
    "model3 = sklearn.model_selection.GridSearchCV(sklearn.neighbors.KNeighborsClassifier(),\n",
    "                                             para_grid3, scoring = \"accuracy\", cv = 5, n_jobs = None)\n",
    "model3.fit(x_train,y_train)\n",
    "print(\"accuracy of SVM Regressor = {:.2f}\".format(model3.best_score_))\n",
    "print(\"best paramters of SVM Regressor = {}\".format(model3.best_params_))"
   ]
  },
  {
   "cell_type": "markdown",
   "id": "ecce2ba1",
   "metadata": {},
   "source": [
    "We found that the accuracy score of KNN is 0.78 and the best parameters should be n_jobs =  1 and n_neighbors = 21  "
   ]
  },
  {
   "cell_type": "markdown",
   "id": "78463de9",
   "metadata": {},
   "source": [
    "# Testing the Best Model"
   ]
  },
  {
   "cell_type": "markdown",
   "id": "ac4f41f9",
   "metadata": {},
   "source": [
    "After the Grid search, from the result it can be found out that the best model to use is model2 since its accuracy score is the best compared to other models. So we are going to use model2 for predcition"
   ]
  },
  {
   "cell_type": "code",
   "execution_count": 22,
   "id": "db8730d4",
   "metadata": {},
   "outputs": [
    {
     "data": {
      "text/plain": [
       "0.7734241908006815"
      ]
     },
     "execution_count": 22,
     "metadata": {},
     "output_type": "execute_result"
    }
   ],
   "source": [
    "y_predict = model2.predict(x_test)\n",
    "ACC = sklearn.metrics.accuracy_score(y_test,y_predict)\n",
    "ACC"
   ]
  },
  {
   "cell_type": "markdown",
   "id": "cef18a73",
   "metadata": {},
   "source": [
    "So we have found out that the accuracy of our test set is 0.77"
   ]
  },
  {
   "cell_type": "markdown",
   "id": "84ef642e",
   "metadata": {},
   "source": [
    "Now we can prinnt the classification matrix to summarize and viusalize the performance of classification algorithm."
   ]
  },
  {
   "cell_type": "code",
   "execution_count": 27,
   "id": "b446b7cf",
   "metadata": {},
   "outputs": [
    {
     "name": "stdout",
     "output_type": "stream",
     "text": [
      "Confusion Matrix :\n",
      " [[1233   53]\n",
      " [ 346  129]]\n"
     ]
    }
   ],
   "source": [
    "CM = sklearn.metrics.confusion_matrix(y_test,y_predict)\n",
    "print(\"Confusion Matrix :\\n\", CM)"
   ]
  },
  {
   "cell_type": "markdown",
   "id": "fe46f8be",
   "metadata": {},
   "source": [
    "This is the perforomance of our classifictaion model."
   ]
  },
  {
   "cell_type": "markdown",
   "id": "ebb3cb53",
   "metadata": {},
   "source": [
    "# Classifictaion Report"
   ]
  },
  {
   "cell_type": "markdown",
   "id": "ae4e425a",
   "metadata": {},
   "source": [
    "We may now apply one of a classification-based machine learning model's performance evaluation measures. It shows the precision, recall, F1 score, and support of our model. It gives us a clearer picture of the overall effectiveness of our trained model."
   ]
  },
  {
   "cell_type": "code",
   "execution_count": 28,
   "id": "279e9fac",
   "metadata": {},
   "outputs": [
    {
     "data": {
      "text/plain": [
       "'              precision    recall  f1-score   support\\n\\n          No       0.78      0.96      0.86      1286\\n         Yes       0.71      0.27      0.39       475\\n\\n    accuracy                           0.77      1761\\n   macro avg       0.74      0.62      0.63      1761\\nweighted avg       0.76      0.77      0.73      1761\\n'"
      ]
     },
     "execution_count": 28,
     "metadata": {},
     "output_type": "execute_result"
    }
   ],
   "source": [
    "sklearn.metrics.classification_report(y_test,y_predict)"
   ]
  },
  {
   "cell_type": "markdown",
   "id": "34619319",
   "metadata": {},
   "source": [
    "Here the precision,recall and F1 score of each class is printed. Since it is calculated individually for each class, precision, recall and F1 score is least."
   ]
  },
  {
   "cell_type": "markdown",
   "id": "24137bf0",
   "metadata": {},
   "source": [
    "I have built the model which will predict the churn ratio and with slight modifications in parameter tuning and feature engineering, the model can be used for many applications in the future."
   ]
  },
  {
   "cell_type": "code",
   "execution_count": null,
   "id": "93dde517",
   "metadata": {},
   "outputs": [],
   "source": []
  }
 ],
 "metadata": {
  "kernelspec": {
   "display_name": "Python 3 (ipykernel)",
   "language": "python",
   "name": "python3"
  },
  "language_info": {
   "codemirror_mode": {
    "name": "ipython",
    "version": 3
   },
   "file_extension": ".py",
   "mimetype": "text/x-python",
   "name": "python",
   "nbconvert_exporter": "python",
   "pygments_lexer": "ipython3",
   "version": "3.8.12"
  }
 },
 "nbformat": 4,
 "nbformat_minor": 5
}
